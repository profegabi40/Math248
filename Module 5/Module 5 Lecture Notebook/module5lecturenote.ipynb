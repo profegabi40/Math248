{
 "cells": [
  {
   "cell_type": "markdown",
   "id": "d654d870-f168-4feb-98d8-5ea8b43f9390",
   "metadata": {},
   "source": [
    "# Module 5 Lecture Notebook- Sequences"
   ]
  },
  {
   "cell_type": "markdown",
   "id": "9c1bd2b0-deff-4be7-87ca-2ad7b1648d58",
   "metadata": {},
   "source": [
    "## Arrays ##"
   ]
  },
  {
   "cell_type": "markdown",
   "id": "c6667a75-b45a-4be8-b599-ef326113006d",
   "metadata": {},
   "source": [
    "An **Array** is a sequential collection of data values which include string and numeric data types among other data types, but all the elements in the array are of the same type."
   ]
  },
  {
   "cell_type": "markdown",
   "id": "c48dfe88-5ba0-40fa-86f7-f0dd13386f7c",
   "metadata": {},
   "source": [
    "Examples of Arrays  \n",
    "  a)\thigh_temperatures= [81, 85, 86, 89, 98, 91, 79] <br> b)\tcart_prices= [12.99, 8.49, 5.25, 22.00, 3.75]  <br> c)\treviews= [“Great quality and fast shipping!”, “Product was okay, but packaging was damaged.”, “Excellent value for the price.”, “Not what I expected.  Returning it.”, “Five   stars! Highly recommended.”]  <br> d) species=  [\"Jaguar\", \"Toucan\", \"Capuchin Monkey\", \"Toucan\",\"Sloth\", \"Jaguar\", \"Macaw\", \"Capuchin Monkey\", \"Capybara\", \"Toucan\"]\n"
   ]
  },
  {
   "cell_type": "markdown",
   "id": "385b7796-8da2-46a7-98ff-22a738ae87c2",
   "metadata": {},
   "source": [
    "### With Datascience"
   ]
  },
  {
   "cell_type": "code",
   "execution_count": null,
   "id": "3bed8af7-11ae-4056-9d67-181762aa369d",
   "metadata": {},
   "outputs": [],
   "source": [
    "# Import the datascience library using import*\n",
    "from datascience import*"
   ]
  },
  {
   "cell_type": "code",
   "execution_count": null,
   "id": "caef9dee-871f-44f5-84ec-bf78fb8debfd",
   "metadata": {},
   "outputs": [],
   "source": [
    "# Creating the high_temperatures datascience array\n",
    "high_temperatures= make_array(81, 85, 86, 89, 98, 91, 79)\n",
    "high_temperatures"
   ]
  },
  {
   "cell_type": "markdown",
   "id": "618b53b9-8c60-4963-8d88-68ce5897438b",
   "metadata": {},
   "source": [
    "### With Numpy"
   ]
  },
  {
   "cell_type": "code",
   "execution_count": 2,
   "id": "7d70893b-d85e-4c18-af24-9cff43d52a92",
   "metadata": {},
   "outputs": [],
   "source": [
    "# Import the numpy library as np\n",
    "import numpy as np"
   ]
  },
  {
   "cell_type": "code",
   "execution_count": 3,
   "id": "9788e9d1-caff-495b-ac3b-29d228e31dbf",
   "metadata": {},
   "outputs": [
    {
     "data": {
      "text/plain": [
       "array([81, 85, 86, 89, 98, 91, 79])"
      ]
     },
     "execution_count": 3,
     "metadata": {},
     "output_type": "execute_result"
    }
   ],
   "source": [
    "# Creating the high_temperatures numpy array\n",
    "high_temperatures= np.array([81, 85, 86, 89, 98, 91, 79])\n",
    "high_temperatures"
   ]
  },
  {
   "cell_type": "markdown",
   "id": "69790e5b-3a65-40c9-b330-acde228c4c8d",
   "metadata": {},
   "source": [
    "**Practice 1** Create an array for the c-d examples above."
   ]
  },
  {
   "cell_type": "code",
   "execution_count": null,
   "id": "80e4d1fa-a9f4-40ed-82fb-80f240d24f22",
   "metadata": {},
   "outputs": [],
   "source": []
  },
  {
   "cell_type": "markdown",
   "id": "9f6d5a94-f434-475a-879c-2e923e10d690",
   "metadata": {},
   "source": [
    "**Practice 2**  Take the high_temperatures array and evaluate the following expression: \n",
    "5/9(high_temperatures-32)"
   ]
  },
  {
   "cell_type": "code",
   "execution_count": null,
   "id": "6714a87e-456c-44c4-b01c-47117ac8208e",
   "metadata": {},
   "outputs": [],
   "source": []
  },
  {
   "cell_type": "markdown",
   "id": "69c4d25d-978b-4b21-ab28-ce1cbdc3de10",
   "metadata": {},
   "source": [
    "### Array Methods\n"
   ]
  },
  {
   "cell_type": "markdown",
   "id": "855d2205-bea0-4cc3-bd81-f7a99542453f",
   "metadata": {},
   "source": [
    "#### Some Built-in Functions\n",
    "\n",
    "Note: Technically these are **list** methods.  A list a sequential collected where the elements don't have to be of the same type. "
   ]
  },
  {
   "cell_type": "code",
   "execution_count": 12,
   "id": "ca59b1f3-475a-4519-9142-8b39299dcef9",
   "metadata": {},
   "outputs": [
    {
     "data": {
      "text/plain": [
       "609"
      ]
     },
     "execution_count": 12,
     "metadata": {},
     "output_type": "execute_result"
    }
   ],
   "source": [
    "# This finds the sum of all the elements\n",
    "high_temperatures.sum()"
   ]
  },
  {
   "cell_type": "code",
   "execution_count": 14,
   "id": "1a3fb9a0-ff54-47a7-8fbe-39caf816a4fa",
   "metadata": {},
   "outputs": [
    {
     "data": {
      "text/plain": [
       "87.0"
      ]
     },
     "execution_count": 14,
     "metadata": {},
     "output_type": "execute_result"
    }
   ],
   "source": [
    "# This finds the mean of all the elements\n",
    "high_temperatures.mean()"
   ]
  },
  {
   "cell_type": "markdown",
   "id": "ba7995bc-4c4e-41ee-9fef-d4deebd1bf6e",
   "metadata": {},
   "source": [
    "Note: We will be using the methods (functions) from the numpy library (package)."
   ]
  },
  {
   "cell_type": "markdown",
   "id": "c582d094-9b08-4960-b078-3a303580880a",
   "metadata": {},
   "source": [
    "#### Numpy Functions"
   ]
  },
  {
   "cell_type": "markdown",
   "id": "e83f7e93-35c2-4ca7-a61d-0a153c5a818d",
   "metadata": {},
   "source": [
    "[Full Numpy Reference](https://numpy.org/doc/stable/reference/)\n",
    "<br>What do the following methods (functions) compute? \n",
    "<br> np.prod(high_temperatures)\n",
    "<br> np.sum(high_temperatures)\n",
    "<br> np.count_nonzero(high_temperatures)\n",
    "<br> np.diff(high_temperatures)\n",
    "<br> np.round(high_temperatures)\n",
    "<br> np.log(high_temperatures)\n",
    "<br> np.sqrt(high_temperatures)\n",
    "<br> np.sort(high_temperatures)\n",
    "<br> np.char.lower(species)\n",
    "<br> np.char.upper(species)\n"
   ]
  },
  {
   "cell_type": "code",
   "execution_count": null,
   "id": "130b264c-1e19-47f3-a115-01c85ded0131",
   "metadata": {},
   "outputs": [],
   "source": []
  },
  {
   "cell_type": "markdown",
   "id": "a3f49eb5-50a6-45f7-ab6e-7466af7b2ad9",
   "metadata": {},
   "source": [
    "## Ranges\n",
    "A **range** is an array numbers in increasing or decreasing order, each separated by a regular interval (same difference between adjacent elements)."
   ]
  },
  {
   "cell_type": "markdown",
   "id": "82e314c5-1536-42d3-ad60-0f8a8c84a298",
   "metadata": {},
   "source": [
    "**Practice 3**- What is ouput of np.arange(5)?"
   ]
  },
  {
   "cell_type": "code",
   "execution_count": null,
   "id": "f7f289f0-7b20-46ae-9843-aafd0a0fc72b",
   "metadata": {},
   "outputs": [],
   "source": []
  },
  {
   "cell_type": "markdown",
   "id": "57e7d2d1-3705-43eb-9841-b494afb63d37",
   "metadata": {},
   "source": [
    "**Practice 4**- What is the output of np.arange(1,7)?"
   ]
  },
  {
   "cell_type": "code",
   "execution_count": null,
   "id": "d659f0d8-7b36-4397-bac8-161996a0d3df",
   "metadata": {},
   "outputs": [],
   "source": []
  },
  {
   "cell_type": "markdown",
   "id": "5c87d7b0-76c1-4a20-bed9-8414d154d8a4",
   "metadata": {},
   "source": [
    "**Practice 5**- What is the output of np.arange(1,9,2)?"
   ]
  },
  {
   "cell_type": "code",
   "execution_count": null,
   "id": "822c6af6-6ae5-478a-8078-5e35ce40c1b1",
   "metadata": {},
   "outputs": [],
   "source": []
  },
  {
   "cell_type": "markdown",
   "id": "c374378a-817e-408e-88e4-896a2d3fce6f",
   "metadata": {},
   "source": [
    "**Practice 6**- What is the output of np.arange(1.5,-2,-0.5)?"
   ]
  },
  {
   "cell_type": "code",
   "execution_count": null,
   "id": "35cad4cb-3349-45a8-a317-705d09c26fa7",
   "metadata": {},
   "outputs": [],
   "source": []
  },
  {
   "attachments": {
    "5dbb0db0-2ef4-499e-9c7e-26c46d29513b.png": {
     "image/png": "[encoded data removed]"
    }
   },
   "cell_type": "markdown",
   "id": "1dd3ce0c-f2c8-4943-a263-01e5f3e07fd4",
   "metadata": {},
   "source": [
    "**Practice 7**- Use a range to find the following sum: \n",
    "<br>![Basel Problem.png](attachment:5dbb0db0-2ef4-499e-9c7e-26c46d29513b.png)"
   ]
  },
  {
   "cell_type": "markdown",
   "id": "b73e6a37-9500-489d-8824-b418b1be8440",
   "metadata": {},
   "source": [
    "### Calling an Item in an Array\n",
    "my_array.item(index)\n",
    "<br> Each item in an array has index or location number on the array.  The first item in an array has index 0. "
   ]
  },
  {
   "cell_type": "markdown",
   "id": "ce4f7f93-8e49-4ef6-bab7-fa9468a0bbd6",
   "metadata": {},
   "source": [
    "**Practice 8**- Take the high_temperatures array and complete the following: \n",
    "<br> a) Sort the array.\n",
    "<br> b) Find the difference between the smallest and largest item in the array using the item() function."
   ]
  },
  {
   "cell_type": "code",
   "execution_count": null,
   "id": "ee5a7da2-c56c-4a32-9126-9d4fd517b828",
   "metadata": {},
   "outputs": [],
   "source": []
  },
  {
   "cell_type": "markdown",
   "id": "aaa37862-9d60-446d-8060-de84d65a6517",
   "metadata": {},
   "source": [
    "## Array Operations\n",
    "Similar to numeric operations, we can perform operations with arrays of that have the same number of elements.\n",
    "<br>Practice 9- Create two arrays called my_array1 and my_array2 and complete the following table: \n",
    "\n",
    "|           Operation                     |     Description    |\n",
    "|:---------------------------------------:|:------------------:|\n",
    "|Addition, my_array1+my_array2            |                    |\n",
    "|Sutraction, my_array1-my_array2          |                    |\n",
    "|Multiplication, my_array1*my_array2      |                    |\n",
    "|Division, my_array1/my_array2            |                    |\n"
   ]
  },
  {
   "cell_type": "code",
   "execution_count": null,
   "id": "fea3f470-d3c9-47c3-9fc2-86678b40ec3c",
   "metadata": {},
   "outputs": [],
   "source": []
  },
  {
   "cell_type": "code",
   "execution_count": null,
   "id": "4d15a127-0653-4ce4-a939-111fef72095d",
   "metadata": {},
   "outputs": [],
   "source": []
  }
 ],
 "metadata": {
  "kernelspec": {
   "display_name": "Python 3 (ipykernel)",
   "language": "python",
   "name": "python3"
  },
  "language_info": {
   "codemirror_mode": {
    "name": "ipython",
    "version": 3
   },
   "file_extension": ".py",
   "mimetype": "text/x-python",
   "name": "python",
   "nbconvert_exporter": "python",
   "pygments_lexer": "ipython3",
   "version": "3.11.13"
  }
 },
 "nbformat": 4,
 "nbformat_minor": 5
}
